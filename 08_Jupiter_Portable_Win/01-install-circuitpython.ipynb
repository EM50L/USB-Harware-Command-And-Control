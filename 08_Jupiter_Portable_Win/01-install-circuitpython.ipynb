{
 "cells": [
  {
   "cell_type": "code",
   "execution_count": 1,
   "id": "f1d5ad1a-6a38-4c10-b3ea-98342535d735",
   "metadata": {
    "scrolled": true
   },
   "outputs": [
    {
     "name": "stdout",
     "output_type": "stream",
     "text": [
      "Collecting https://github.com/adafruit/circuitpython_kernel/archive/master.zip\n",
      "  Downloading https://github.com/adafruit/circuitpython_kernel/archive/master.zip\n",
      "     - 0 bytes ? 0:00:00\n",
      "     - 40.9 kB 1.3 MB/s 0:00:00\n",
      "     \\ 95.7 kB 1.5 MB/s 0:00:00\n",
      "     \\ 435.4 kB 3.1 MB/s 0:00:00\n",
      "     \\ 435.4 kB 3.1 MB/s 0:00:00\n",
      "  Preparing metadata (setup.py): started\n",
      "  Preparing metadata (setup.py): finished with status 'done'\n",
      "Requirement already satisfied: pyserial in c:\\users\\test\\appdata\\roaming\\jupyterlab-desktop\\jlab_server\\lib\\site-packages (from circuitpython-kernel==0.3.2) (3.5)\n",
      "Requirement already satisfied: ipython in c:\\users\\test\\appdata\\roaming\\jupyterlab-desktop\\jlab_server\\lib\\site-packages (from circuitpython-kernel==0.3.2) (8.12.0)\n",
      "Requirement already satisfied: ipykernel in c:\\users\\test\\appdata\\roaming\\jupyterlab-desktop\\jlab_server\\lib\\site-packages (from circuitpython-kernel==0.3.2) (6.26.0)\n",
      "Collecting pylint (from circuitpython-kernel==0.3.2)\n",
      "  Downloading pylint-3.0.2-py3-none-any.whl.metadata (12 kB)\n",
      "Requirement already satisfied: comm>=0.1.1 in c:\\users\\test\\appdata\\roaming\\jupyterlab-desktop\\jlab_server\\lib\\site-packages (from ipykernel->circuitpython-kernel==0.3.2) (0.1.4)\n",
      "Requirement already satisfied: debugpy>=1.6.5 in c:\\users\\test\\appdata\\roaming\\jupyterlab-desktop\\jlab_server\\lib\\site-packages (from ipykernel->circuitpython-kernel==0.3.2) (1.8.0)\n",
      "Requirement already satisfied: jupyter-client>=6.1.12 in c:\\users\\test\\appdata\\roaming\\jupyterlab-desktop\\jlab_server\\lib\\site-packages (from ipykernel->circuitpython-kernel==0.3.2) (8.5.0)\n",
      "Requirement already satisfied: jupyter-core!=5.0.*,>=4.12 in c:\\users\\test\\appdata\\roaming\\jupyterlab-desktop\\jlab_server\\lib\\site-packages (from ipykernel->circuitpython-kernel==0.3.2) (5.4.0)\n",
      "Requirement already satisfied: matplotlib-inline>=0.1 in c:\\users\\test\\appdata\\roaming\\jupyterlab-desktop\\jlab_server\\lib\\site-packages (from ipykernel->circuitpython-kernel==0.3.2) (0.1.6)\n",
      "Requirement already satisfied: nest-asyncio in c:\\users\\test\\appdata\\roaming\\jupyterlab-desktop\\jlab_server\\lib\\site-packages (from ipykernel->circuitpython-kernel==0.3.2) (1.5.8)\n",
      "Requirement already satisfied: packaging in c:\\users\\test\\appdata\\roaming\\jupyterlab-desktop\\jlab_server\\lib\\site-packages (from ipykernel->circuitpython-kernel==0.3.2) (23.2)\n",
      "Requirement already satisfied: psutil in c:\\users\\test\\appdata\\roaming\\jupyterlab-desktop\\jlab_server\\lib\\site-packages (from ipykernel->circuitpython-kernel==0.3.2) (5.9.5)\n",
      "Requirement already satisfied: pyzmq>=20 in c:\\users\\test\\appdata\\roaming\\jupyterlab-desktop\\jlab_server\\lib\\site-packages (from ipykernel->circuitpython-kernel==0.3.2) (25.1.1)\n",
      "Requirement already satisfied: tornado>=6.1 in c:\\users\\test\\appdata\\roaming\\jupyterlab-desktop\\jlab_server\\lib\\site-packages (from ipykernel->circuitpython-kernel==0.3.2) (6.3.3)\n",
      "Requirement already satisfied: traitlets>=5.4.0 in c:\\users\\test\\appdata\\roaming\\jupyterlab-desktop\\jlab_server\\lib\\site-packages (from ipykernel->circuitpython-kernel==0.3.2) (5.12.0)\n",
      "Requirement already satisfied: backcall in c:\\users\\test\\appdata\\roaming\\jupyterlab-desktop\\jlab_server\\lib\\site-packages (from ipython->circuitpython-kernel==0.3.2) (0.2.0)\n",
      "Requirement already satisfied: decorator in c:\\users\\test\\appdata\\roaming\\jupyterlab-desktop\\jlab_server\\lib\\site-packages (from ipython->circuitpython-kernel==0.3.2) (5.1.1)\n",
      "Requirement already satisfied: jedi>=0.16 in c:\\users\\test\\appdata\\roaming\\jupyterlab-desktop\\jlab_server\\lib\\site-packages (from ipython->circuitpython-kernel==0.3.2) (0.19.1)\n",
      "Requirement already satisfied: pickleshare in c:\\users\\test\\appdata\\roaming\\jupyterlab-desktop\\jlab_server\\lib\\site-packages (from ipython->circuitpython-kernel==0.3.2) (0.7.5)\n",
      "Requirement already satisfied: prompt-toolkit!=3.0.37,<3.1.0,>=3.0.30 in c:\\users\\test\\appdata\\roaming\\jupyterlab-desktop\\jlab_server\\lib\\site-packages (from ipython->circuitpython-kernel==0.3.2) (3.0.39)\n",
      "Requirement already satisfied: pygments>=2.4.0 in c:\\users\\test\\appdata\\roaming\\jupyterlab-desktop\\jlab_server\\lib\\site-packages (from ipython->circuitpython-kernel==0.3.2) (2.16.1)\n",
      "Requirement already satisfied: stack-data in c:\\users\\test\\appdata\\roaming\\jupyterlab-desktop\\jlab_server\\lib\\site-packages (from ipython->circuitpython-kernel==0.3.2) (0.6.2)\n",
      "Requirement already satisfied: typing-extensions in c:\\users\\test\\appdata\\roaming\\jupyterlab-desktop\\jlab_server\\lib\\site-packages (from ipython->circuitpython-kernel==0.3.2) (4.8.0)\n",
      "Requirement already satisfied: colorama in c:\\users\\test\\appdata\\roaming\\jupyterlab-desktop\\jlab_server\\lib\\site-packages (from ipython->circuitpython-kernel==0.3.2) (0.4.6)\n",
      "Requirement already satisfied: platformdirs>=2.2.0 in c:\\users\\test\\appdata\\roaming\\jupyterlab-desktop\\jlab_server\\lib\\site-packages (from pylint->circuitpython-kernel==0.3.2) (3.11.0)\n",
      "Collecting astroid<=3.1.0-dev0,>=3.0.1 (from pylint->circuitpython-kernel==0.3.2)\n",
      "  Downloading astroid-3.0.1-py3-none-any.whl.metadata (4.5 kB)\n",
      "Collecting isort<6,>=4.2.5 (from pylint->circuitpython-kernel==0.3.2)\n",
      "  Downloading isort-5.12.0-py3-none-any.whl (91 kB)\n",
      "     ---------------------------------------- 0.0/91.2 kB ? eta -:--:--\n",
      "     ----------------- ---------------------- 41.0/91.2 kB 1.9 MB/s eta 0:00:01\n",
      "     ---------------------------------------- 91.2/91.2 kB 2.5 MB/s eta 0:00:00\n",
      "Collecting mccabe<0.8,>=0.6 (from pylint->circuitpython-kernel==0.3.2)\n",
      "  Downloading mccabe-0.7.0-py2.py3-none-any.whl (7.3 kB)\n",
      "Collecting tomlkit>=0.10.1 (from pylint->circuitpython-kernel==0.3.2)\n",
      "  Downloading tomlkit-0.12.3-py3-none-any.whl.metadata (2.7 kB)\n",
      "Collecting dill>=0.2 (from pylint->circuitpython-kernel==0.3.2)\n",
      "  Downloading dill-0.3.7-py3-none-any.whl.metadata (9.9 kB)\n",
      "Requirement already satisfied: tomli>=1.1.0 in c:\\users\\test\\appdata\\roaming\\jupyterlab-desktop\\jlab_server\\lib\\site-packages (from pylint->circuitpython-kernel==0.3.2) (2.0.1)\n",
      "Requirement already satisfied: parso<0.9.0,>=0.8.3 in c:\\users\\test\\appdata\\roaming\\jupyterlab-desktop\\jlab_server\\lib\\site-packages (from jedi>=0.16->ipython->circuitpython-kernel==0.3.2) (0.8.3)\n",
      "Requirement already satisfied: importlib-metadata>=4.8.3 in c:\\users\\test\\appdata\\roaming\\jupyterlab-desktop\\jlab_server\\lib\\site-packages (from jupyter-client>=6.1.12->ipykernel->circuitpython-kernel==0.3.2) (6.8.0)\n",
      "Requirement already satisfied: python-dateutil>=2.8.2 in c:\\users\\test\\appdata\\roaming\\jupyterlab-desktop\\jlab_server\\lib\\site-packages (from jupyter-client>=6.1.12->ipykernel->circuitpython-kernel==0.3.2) (2.8.2)\n",
      "Requirement already satisfied: pywin32>=300 in c:\\users\\test\\appdata\\roaming\\jupyterlab-desktop\\jlab_server\\lib\\site-packages (from jupyter-core!=5.0.*,>=4.12->ipykernel->circuitpython-kernel==0.3.2) (306)\n",
      "Requirement already satisfied: wcwidth in c:\\users\\test\\appdata\\roaming\\jupyterlab-desktop\\jlab_server\\lib\\site-packages (from prompt-toolkit!=3.0.37,<3.1.0,>=3.0.30->ipython->circuitpython-kernel==0.3.2) (0.2.8)\n",
      "Requirement already satisfied: executing>=1.2.0 in c:\\users\\test\\appdata\\roaming\\jupyterlab-desktop\\jlab_server\\lib\\site-packages (from stack-data->ipython->circuitpython-kernel==0.3.2) (1.2.0)\n",
      "Requirement already satisfied: asttokens>=2.1.0 in c:\\users\\test\\appdata\\roaming\\jupyterlab-desktop\\jlab_server\\lib\\site-packages (from stack-data->ipython->circuitpython-kernel==0.3.2) (2.4.0)\n",
      "Requirement already satisfied: pure-eval in c:\\users\\test\\appdata\\roaming\\jupyterlab-desktop\\jlab_server\\lib\\site-packages (from stack-data->ipython->circuitpython-kernel==0.3.2) (0.2.2)\n",
      "Requirement already satisfied: six>=1.12.0 in c:\\users\\test\\appdata\\roaming\\jupyterlab-desktop\\jlab_server\\lib\\site-packages (from asttokens>=2.1.0->stack-data->ipython->circuitpython-kernel==0.3.2) (1.16.0)\n",
      "Requirement already satisfied: zipp>=0.5 in c:\\users\\test\\appdata\\roaming\\jupyterlab-desktop\\jlab_server\\lib\\site-packages (from importlib-metadata>=4.8.3->jupyter-client>=6.1.12->ipykernel->circuitpython-kernel==0.3.2) (3.17.0)\n",
      "Downloading pylint-3.0.2-py3-none-any.whl (510 kB)\n",
      "   ---------------------------------------- 0.0/510.6 kB ? eta -:--:--\n",
      "   --------------------------- ----------- 358.4/510.6 kB 21.8 MB/s eta 0:00:01\n",
      "   --------------------------------------- 510.6/510.6 kB 10.6 MB/s eta 0:00:00\n",
      "Downloading astroid-3.0.1-py3-none-any.whl (275 kB)\n",
      "   ---------------------------------------- 0.0/275.2 kB ? eta -:--:--\n",
      "   ---------------------------------------- 275.2/275.2 kB 8.5 MB/s eta 0:00:00\n",
      "Downloading dill-0.3.7-py3-none-any.whl (115 kB)\n",
      "   ---------------------------------------- 0.0/115.3 kB ? eta -:--:--\n",
      "   ---------------------------------------- 115.3/115.3 kB ? eta 0:00:00\n",
      "Downloading tomlkit-0.12.3-py3-none-any.whl (37 kB)\n",
      "Building wheels for collected packages: circuitpython-kernel\n",
      "  Building wheel for circuitpython-kernel (setup.py): started\n",
      "  Building wheel for circuitpython-kernel (setup.py): finished with status 'done'\n",
      "  Created wheel for circuitpython-kernel: filename=circuitpython_kernel-0.3.2-py2.py3-none-any.whl size=10596 sha256=0dded1f73e666a6c5aebbdf9b004ae060fda3d76221accb8354723b0e579cb02\n",
      "  Stored in directory: C:\\Users\\test\\AppData\\Local\\Temp\\pip-ephem-wheel-cache-reymego_\\wheels\\8b\\69\\e2\\6284e12f7f9ca48c62370d3ed6f6591b5e7aa941f9fe3d1106\n",
      "Successfully built circuitpython-kernel\n",
      "Installing collected packages: tomlkit, mccabe, isort, dill, astroid, pylint, circuitpython-kernel\n",
      "Successfully installed astroid-3.0.1 circuitpython-kernel-0.3.2 dill-0.3.7 isort-5.12.0 mccabe-0.7.0 pylint-3.0.2 tomlkit-0.12.3\n"
     ]
    }
   ],
   "source": [
    "#1) Instalo ciruitpython\n",
    "!pip install \"https://github.com/adafruit/circuitpython_kernel/archive/master.zip\""
   ]
  },
  {
   "cell_type": "code",
   "execution_count": 2,
   "id": "8bd61d4a-3b80-4a3a-8556-255f8eb36b5f",
   "metadata": {},
   "outputs": [
    {
     "name": "stdout",
     "output_type": "stream",
     "text": [
      "Installing CircuitPython kernelspec\n",
      "Completed kernel installation.\n"
     ]
    },
    {
     "name": "stderr",
     "output_type": "stream",
     "text": [
      "C:\\Users\\test\\AppData\\Roaming\\jupyterlab-desktop\\jlab_server\\lib\\site-packages\\circuitpython_kernel\\install.py:28: DeprecationWarning: replace is ignored. Installing a kernelspec always replaces an existing installation\n",
      "  KernelSpecManager().install_kernel_spec(\n"
     ]
    }
   ],
   "source": [
    "#2) Activo Kernel\n",
    "!python -m circuitpython_kernel.install"
   ]
  },
  {
   "cell_type": "code",
   "execution_count": 4,
   "id": "62334e5f-ec54-49e5-8481-cbf5d9f6a0d3",
   "metadata": {},
   "outputs": [
    {
     "name": "stdout",
     "output_type": "stream",
     "text": [
      "Available kernels:\n",
      "  circuitpython    C:\\Users\\test\\AppData\\Roaming\\jupyter\\kernels\\circuitpython\n",
      "  micropython      C:\\Users\\test\\AppData\\Roaming\\jupyter\\kernels\\micropython\n",
      "  python3          C:\\Users\\test\\AppData\\Roaming\\jupyterlab-desktop\\jlab_server\\share\\jupyter\\kernels\\python3\n"
     ]
    }
   ],
   "source": [
    "#3) Compruebo listado de kernels\n",
    "!jupyter kernelspec list"
   ]
  },
  {
   "cell_type": "code",
   "execution_count": 5,
   "id": "07a80b7b-3599-4882-8419-fedaebc7799a",
   "metadata": {},
   "outputs": [],
   "source": [
    "#Es posible que tengas que reiniciar el entonro para que cargue el nuevo kernel"
   ]
  },
  {
   "cell_type": "code",
   "execution_count": 2,
   "id": "1d621b24-bf0e-4fbe-8d80-cfb0510f2240",
   "metadata": {},
   "outputs": [],
   "source": [
    "#Si sale error: No connection to CircuitPython VM: found no board\n",
    "#Es posible que tengas que editar board.py para poner el id de tu placa.(si no es adafruit)\n",
    "!notepad %USERPROFILE%\\AppData\\Roaming\\jupyterlab-desktop\\jlab_server\\Lib\\site-packages\\circuitpython_kernel\\board.py"
   ]
  },
  {
   "cell_type": "code",
   "execution_count": null,
   "id": "d301a06d-9c5a-4d34-a07e-afc3d370bc39",
   "metadata": {},
   "outputs": [],
   "source": [
    "!USBDeview.exe"
   ]
  }
 ],
 "metadata": {
  "kernelspec": {
   "display_name": "Python 3 (ipykernel)",
   "language": "python",
   "name": "python3"
  },
  "language_info": {
   "codemirror_mode": {
    "name": "ipython",
    "version": 3
   },
   "file_extension": ".py",
   "mimetype": "text/x-python",
   "name": "python",
   "nbconvert_exporter": "python",
   "pygments_lexer": "ipython3",
   "version": "3.10.12"
  }
 },
 "nbformat": 4,
 "nbformat_minor": 5
}
