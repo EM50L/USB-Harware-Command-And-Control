{
 "cells": [
  {
   "cell_type": "code",
   "execution_count": 1,
   "id": "502b3a60-65e2-4be8-998b-241fe546a65b",
   "metadata": {},
   "outputs": [
    {
     "name": "stdout",
     "output_type": "stream",
     "text": [
      "Collecting jupyter_micropython_kernel\n",
      "  Downloading jupyter_micropython_kernel-0.1.3.2-py3-none-any.whl (20 kB)\n",
      "Collecting pyserial>=3.4 (from jupyter_micropython_kernel)\n",
      "  Downloading pyserial-3.5-py2.py3-none-any.whl (90 kB)\n",
      "     ---------------------------------------- 0.0/90.6 kB ? eta -:--:--\n",
      "     ---------------------------------------- 90.6/90.6 kB 2.6 MB/s eta 0:00:00\n",
      "Requirement already satisfied: websocket-client>=0.44 in c:\\users\\test\\appdata\\roaming\\jupyterlab-desktop\\jlab_server\\lib\\site-packages (from jupyter_micropython_kernel) (1.6.4)\n",
      "Installing collected packages: pyserial, jupyter_micropython_kernel\n",
      "Successfully installed jupyter_micropython_kernel-0.1.3.2 pyserial-3.5\n"
     ]
    }
   ],
   "source": [
    "#1) instalo micropython\n",
    "!pip install jupyter_micropython_kernel"
   ]
  },
  {
   "cell_type": "code",
   "execution_count": 2,
   "id": "36d47df3-61b6-42b9-8e52-15965f80e1ee",
   "metadata": {},
   "outputs": [
    {
     "name": "stdout",
     "output_type": "stream",
     "text": [
      "Installing IPython kernel spec of micropython\n",
      "...into C:\\Users\\test\\AppData\\Roaming\\jupyter\\kernels\\micropython\n"
     ]
    },
    {
     "name": "stderr",
     "output_type": "stream",
     "text": [
      "C:\\Users\\test\\AppData\\Roaming\\jupyterlab-desktop\\jlab_server\\lib\\site-packages\\jupyter_micropython_kernel\\install.py:29: DeprecationWarning: replace is ignored. Installing a kernelspec always replaces an existing installation\n",
      "  k.install_kernel_spec(td, 'Micropython', user=user, replace=True, prefix=prefix)\n"
     ]
    }
   ],
   "source": [
    "#2) activo kernel\n",
    "!python -m jupyter_micropython_kernel.install"
   ]
  },
  {
   "cell_type": "code",
   "execution_count": 1,
   "id": "5e2fe6a5-7a59-4663-8ca7-89556074fffb",
   "metadata": {},
   "outputs": [
    {
     "name": "stdout",
     "output_type": "stream",
     "text": [
      "Available kernels:\n",
      "  micropython    C:\\Users\\test\\AppData\\Roaming\\jupyter\\kernels\\micropython\n",
      "  python3        C:\\Users\\test\\AppData\\Roaming\\jupyterlab-desktop\\jlab_server\\share\\jupyter\\kernels\\python3\n"
     ]
    }
   ],
   "source": [
    "#3) Compruebo listado de kernels\n",
    "!jupyter kernelspec list"
   ]
  },
  {
   "cell_type": "code",
   "execution_count": null,
   "id": "74cda905-51db-4f5d-9ef2-7a9950b822fc",
   "metadata": {},
   "outputs": [],
   "source": [
    "#4) Es posible que tengas que reiniciar el entonro para que cargue el nuevo kernel"
   ]
  }
 ],
 "metadata": {
  "kernelspec": {
   "display_name": "Python 3 (ipykernel)",
   "language": "python",
   "name": "python3"
  },
  "language_info": {
   "codemirror_mode": {
    "name": "ipython",
    "version": 3
   },
   "file_extension": ".py",
   "mimetype": "text/x-python",
   "name": "python",
   "nbconvert_exporter": "python",
   "pygments_lexer": "ipython3",
   "version": "3.10.12"
  }
 },
 "nbformat": 4,
 "nbformat_minor": 5
}
