{
 "cells": [
  {
   "cell_type": "code",
   "execution_count": 1,
   "id": "502b3a60-65e2-4be8-998b-241fe546a65b",
   "metadata": {},
   "outputs": [
    {
     "name": "stdout",
     "output_type": "stream",
     "text": [
      "Requirement already satisfied: jupyter_micropython_kernel in /home/conda/miniforge3/lib/python3.10/site-packages (0.1.3.2)\n",
      "Requirement already satisfied: pyserial>=3.4 in /home/conda/miniforge3/lib/python3.10/site-packages/pyserial-3.5-py3.10.egg (from jupyter_micropython_kernel) (3.5)\n",
      "Requirement already satisfied: websocket-client>=0.44 in /home/conda/miniforge3/lib/python3.10/site-packages (from jupyter_micropython_kernel) (1.6.2)\n"
     ]
    }
   ],
   "source": [
    "#1) instalo micropython\n",
    "!pip install jupyter_micropython_kernel"
   ]
  },
  {
   "cell_type": "code",
   "execution_count": 2,
   "id": "36d47df3-61b6-42b9-8e52-15965f80e1ee",
   "metadata": {},
   "outputs": [
    {
     "name": "stdout",
     "output_type": "stream",
     "text": [
      "Installing IPython kernel spec of micropython\n",
      "/home/conda/miniforge3/lib/python3.10/site-packages/jupyter_micropython_kernel/install.py:29: DeprecationWarning: replace is ignored. Installing a kernelspec always replaces an existing installation\n",
      "  k.install_kernel_spec(td, 'Micropython', user=user, replace=True, prefix=prefix)\n",
      "...into /home/conda/.local/share/jupyter/kernels/micropython\n"
     ]
    }
   ],
   "source": [
    "#2) activo kernel\n",
    "!python -m jupyter_micropython_kernel.install"
   ]
  },
  {
   "cell_type": "code",
   "execution_count": 3,
   "id": "5e2fe6a5-7a59-4663-8ca7-89556074fffb",
   "metadata": {},
   "outputs": [
    {
     "name": "stdout",
     "output_type": "stream",
     "text": [
      "Available kernels:\n",
      "  circuitpython    /home/conda/.local/share/jupyter/kernels/circuitpython\n",
      "  micropython      /home/conda/.local/share/jupyter/kernels/micropython\n",
      "  python3          /home/conda/.local/share/jupyter/kernels/python3\n"
     ]
    }
   ],
   "source": [
    "#3) Compruebo listado de kernels\n",
    "!jupyter kernelspec list"
   ]
  },
  {
   "cell_type": "code",
   "execution_count": 4,
   "id": "74cda905-51db-4f5d-9ef2-7a9950b822fc",
   "metadata": {},
   "outputs": [],
   "source": [
    "#4) Es posible que tengas que reiniciar el entonro para que cargue el nuevo kernel"
   ]
  }
 ],
 "metadata": {
  "kernelspec": {
   "display_name": "Python 3 (ipykernel)",
   "language": "python",
   "name": "python3"
  },
  "language_info": {
   "codemirror_mode": {
    "name": "ipython",
    "version": 3
   },
   "file_extension": ".py",
   "mimetype": "text/x-python",
   "name": "python",
   "nbconvert_exporter": "python",
   "pygments_lexer": "ipython3",
   "version": "3.10.12"
  }
 },
 "nbformat": 4,
 "nbformat_minor": 5
}
