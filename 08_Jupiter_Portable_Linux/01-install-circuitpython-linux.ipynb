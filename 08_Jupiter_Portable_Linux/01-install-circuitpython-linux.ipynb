{
 "cells": [
  {
   "cell_type": "code",
   "execution_count": 1,
   "id": "f1d5ad1a-6a38-4c10-b3ea-98342535d735",
   "metadata": {
    "scrolled": true
   },
   "outputs": [
    {
     "name": "stdout",
     "output_type": "stream",
     "text": [
      "Collecting https://github.com/adafruit/circuitpython_kernel/archive/master.zip\n",
      "  Downloading https://github.com/adafruit/circuitpython_kernel/archive/master.zip\n",
      "\u001b[2K     \u001b[32m-\u001b[0m \u001b[32m435.4 kB\u001b[0m \u001b[31m2.4 MB/s\u001b[0m \u001b[33m0:00:00\u001b[0m\n",
      "\u001b[?25h  Preparing metadata (setup.py) ... \u001b[?25ldone\n",
      "\u001b[?25hRequirement already satisfied: pyserial in /home/dietpi/.config/jupyterlab-desktop/jlab_server/lib/python3.8/site-packages (from circuitpython_kernel==0.3.2) (3.5)\n",
      "Requirement already satisfied: ipython in /home/dietpi/.config/jupyterlab-desktop/jlab_server/lib/python3.8/site-packages (from circuitpython_kernel==0.3.2) (8.12.2)\n",
      "Requirement already satisfied: ipykernel in /home/dietpi/.config/jupyterlab-desktop/jlab_server/lib/python3.8/site-packages (from circuitpython_kernel==0.3.2) (6.29.0)\n",
      "Collecting pylint (from circuitpython_kernel==0.3.2)\n",
      "  Downloading pylint-3.0.3-py3-none-any.whl.metadata (12 kB)\n",
      "Requirement already satisfied: comm>=0.1.1 in /home/dietpi/.config/jupyterlab-desktop/jlab_server/lib/python3.8/site-packages (from ipykernel->circuitpython_kernel==0.3.2) (0.2.1)\n",
      "Requirement already satisfied: debugpy>=1.6.5 in /home/dietpi/.config/jupyterlab-desktop/jlab_server/lib/python3.8/site-packages (from ipykernel->circuitpython_kernel==0.3.2) (1.8.0)\n",
      "Requirement already satisfied: jupyter-client>=6.1.12 in /home/dietpi/.config/jupyterlab-desktop/jlab_server/lib/python3.8/site-packages (from ipykernel->circuitpython_kernel==0.3.2) (8.6.0)\n",
      "Requirement already satisfied: jupyter-core!=5.0.*,>=4.12 in /home/dietpi/.config/jupyterlab-desktop/jlab_server/lib/python3.8/site-packages (from ipykernel->circuitpython_kernel==0.3.2) (5.7.1)\n",
      "Requirement already satisfied: matplotlib-inline>=0.1 in /home/dietpi/.config/jupyterlab-desktop/jlab_server/lib/python3.8/site-packages (from ipykernel->circuitpython_kernel==0.3.2) (0.1.6)\n",
      "Requirement already satisfied: nest-asyncio in /home/dietpi/.config/jupyterlab-desktop/jlab_server/lib/python3.8/site-packages (from ipykernel->circuitpython_kernel==0.3.2) (1.5.9)\n",
      "Requirement already satisfied: packaging in /home/dietpi/.config/jupyterlab-desktop/jlab_server/lib/python3.8/site-packages (from ipykernel->circuitpython_kernel==0.3.2) (23.2)\n",
      "Requirement already satisfied: psutil in /home/dietpi/.config/jupyterlab-desktop/jlab_server/lib/python3.8/site-packages (from ipykernel->circuitpython_kernel==0.3.2) (5.9.8)\n",
      "Requirement already satisfied: pyzmq>=24 in /home/dietpi/.config/jupyterlab-desktop/jlab_server/lib/python3.8/site-packages (from ipykernel->circuitpython_kernel==0.3.2) (25.1.2)\n",
      "Requirement already satisfied: tornado>=6.1 in /home/dietpi/.config/jupyterlab-desktop/jlab_server/lib/python3.8/site-packages (from ipykernel->circuitpython_kernel==0.3.2) (6.3.3)\n",
      "Requirement already satisfied: traitlets>=5.4.0 in /home/dietpi/.config/jupyterlab-desktop/jlab_server/lib/python3.8/site-packages (from ipykernel->circuitpython_kernel==0.3.2) (5.14.1)\n",
      "Requirement already satisfied: backcall in /home/dietpi/.config/jupyterlab-desktop/jlab_server/lib/python3.8/site-packages (from ipython->circuitpython_kernel==0.3.2) (0.2.0)\n",
      "Requirement already satisfied: decorator in /home/dietpi/.config/jupyterlab-desktop/jlab_server/lib/python3.8/site-packages (from ipython->circuitpython_kernel==0.3.2) (5.1.1)\n",
      "Requirement already satisfied: jedi>=0.16 in /home/dietpi/.config/jupyterlab-desktop/jlab_server/lib/python3.8/site-packages (from ipython->circuitpython_kernel==0.3.2) (0.19.1)\n",
      "Requirement already satisfied: pickleshare in /home/dietpi/.config/jupyterlab-desktop/jlab_server/lib/python3.8/site-packages (from ipython->circuitpython_kernel==0.3.2) (0.7.5)\n",
      "Requirement already satisfied: prompt-toolkit!=3.0.37,<3.1.0,>=3.0.30 in /home/dietpi/.config/jupyterlab-desktop/jlab_server/lib/python3.8/site-packages (from ipython->circuitpython_kernel==0.3.2) (3.0.42)\n",
      "Requirement already satisfied: pygments>=2.4.0 in /home/dietpi/.config/jupyterlab-desktop/jlab_server/lib/python3.8/site-packages (from ipython->circuitpython_kernel==0.3.2) (2.17.2)\n",
      "Requirement already satisfied: stack-data in /home/dietpi/.config/jupyterlab-desktop/jlab_server/lib/python3.8/site-packages (from ipython->circuitpython_kernel==0.3.2) (0.6.2)\n",
      "Requirement already satisfied: typing-extensions in /home/dietpi/.config/jupyterlab-desktop/jlab_server/lib/python3.8/site-packages (from ipython->circuitpython_kernel==0.3.2) (4.9.0)\n",
      "Requirement already satisfied: pexpect>4.3 in /home/dietpi/.config/jupyterlab-desktop/jlab_server/lib/python3.8/site-packages (from ipython->circuitpython_kernel==0.3.2) (4.8.0)\n",
      "Requirement already satisfied: platformdirs>=2.2.0 in /home/dietpi/.config/jupyterlab-desktop/jlab_server/lib/python3.8/site-packages (from pylint->circuitpython_kernel==0.3.2) (4.1.0)\n",
      "Collecting astroid<=3.1.0-dev0,>=3.0.1 (from pylint->circuitpython_kernel==0.3.2)\n",
      "  Downloading astroid-3.0.2-py3-none-any.whl.metadata (4.5 kB)\n",
      "Collecting isort!=5.13.0,<6,>=4.2.5 (from pylint->circuitpython_kernel==0.3.2)\n",
      "  Downloading isort-5.13.2-py3-none-any.whl.metadata (12 kB)\n",
      "Collecting mccabe<0.8,>=0.6 (from pylint->circuitpython_kernel==0.3.2)\n",
      "  Downloading mccabe-0.7.0-py2.py3-none-any.whl (7.3 kB)\n",
      "Collecting tomlkit>=0.10.1 (from pylint->circuitpython_kernel==0.3.2)\n",
      "  Downloading tomlkit-0.12.3-py3-none-any.whl.metadata (2.7 kB)\n",
      "Collecting dill>=0.2 (from pylint->circuitpython_kernel==0.3.2)\n",
      "  Downloading dill-0.3.7-py3-none-any.whl.metadata (9.9 kB)\n",
      "Requirement already satisfied: tomli>=1.1.0 in /home/dietpi/.config/jupyterlab-desktop/jlab_server/lib/python3.8/site-packages (from pylint->circuitpython_kernel==0.3.2) (2.0.1)\n",
      "Requirement already satisfied: parso<0.9.0,>=0.8.3 in /home/dietpi/.config/jupyterlab-desktop/jlab_server/lib/python3.8/site-packages (from jedi>=0.16->ipython->circuitpython_kernel==0.3.2) (0.8.3)\n",
      "Requirement already satisfied: importlib-metadata>=4.8.3 in /home/dietpi/.config/jupyterlab-desktop/jlab_server/lib/python3.8/site-packages (from jupyter-client>=6.1.12->ipykernel->circuitpython_kernel==0.3.2) (7.0.1)\n",
      "Requirement already satisfied: python-dateutil>=2.8.2 in /home/dietpi/.config/jupyterlab-desktop/jlab_server/lib/python3.8/site-packages (from jupyter-client>=6.1.12->ipykernel->circuitpython_kernel==0.3.2) (2.8.2)\n",
      "Requirement already satisfied: ptyprocess>=0.5 in /home/dietpi/.config/jupyterlab-desktop/jlab_server/lib/python3.8/site-packages (from pexpect>4.3->ipython->circuitpython_kernel==0.3.2) (0.7.0)\n",
      "Requirement already satisfied: wcwidth in /home/dietpi/.config/jupyterlab-desktop/jlab_server/lib/python3.8/site-packages (from prompt-toolkit!=3.0.37,<3.1.0,>=3.0.30->ipython->circuitpython_kernel==0.3.2) (0.2.13)\n",
      "Requirement already satisfied: executing>=1.2.0 in /home/dietpi/.config/jupyterlab-desktop/jlab_server/lib/python3.8/site-packages (from stack-data->ipython->circuitpython_kernel==0.3.2) (2.0.1)\n",
      "Requirement already satisfied: asttokens>=2.1.0 in /home/dietpi/.config/jupyterlab-desktop/jlab_server/lib/python3.8/site-packages (from stack-data->ipython->circuitpython_kernel==0.3.2) (2.4.1)\n",
      "Requirement already satisfied: pure-eval in /home/dietpi/.config/jupyterlab-desktop/jlab_server/lib/python3.8/site-packages (from stack-data->ipython->circuitpython_kernel==0.3.2) (0.2.2)\n",
      "Requirement already satisfied: six>=1.12.0 in /home/dietpi/.config/jupyterlab-desktop/jlab_server/lib/python3.8/site-packages (from asttokens>=2.1.0->stack-data->ipython->circuitpython_kernel==0.3.2) (1.16.0)\n",
      "Requirement already satisfied: zipp>=0.5 in /home/dietpi/.config/jupyterlab-desktop/jlab_server/lib/python3.8/site-packages (from importlib-metadata>=4.8.3->jupyter-client>=6.1.12->ipykernel->circuitpython_kernel==0.3.2) (3.17.0)\n",
      "Downloading pylint-3.0.3-py3-none-any.whl (510 kB)\n",
      "\u001b[2K   \u001b[90m━━━━━━━━━━━━━━━━━━━━━━━━━━━━━━━━━━━━━━━━\u001b[0m \u001b[32m510.6/510.6 kB\u001b[0m \u001b[31m2.9 MB/s\u001b[0m eta \u001b[36m0:00:00\u001b[0m:00:01\u001b[0m\n",
      "\u001b[?25hDownloading astroid-3.0.2-py3-none-any.whl (275 kB)\n",
      "\u001b[2K   \u001b[90m━━━━━━━━━━━━━━━━━━━━━━━━━━━━━━━━━━━━━━━━\u001b[0m \u001b[32m275.2/275.2 kB\u001b[0m \u001b[31m1.9 MB/s\u001b[0m eta \u001b[36m0:00:00\u001b[0mta \u001b[36m0:00:01\u001b[0m\n",
      "\u001b[?25hDownloading dill-0.3.7-py3-none-any.whl (115 kB)\n",
      "\u001b[2K   \u001b[90m━━━━━━━━━━━━━━━━━━━━━━━━━━━━━━━━━━━━━━━\u001b[0m \u001b[32m115.3/115.3 kB\u001b[0m \u001b[31m759.4 kB/s\u001b[0m eta \u001b[36m0:00:00\u001b[0m00:01\u001b[0m\n",
      "\u001b[?25hDownloading isort-5.13.2-py3-none-any.whl (92 kB)\n",
      "\u001b[2K   \u001b[90m━━━━━━━━━━━━━━━━━━━━━━━━━━━━━━━━━━━━━━━━\u001b[0m \u001b[32m92.3/92.3 kB\u001b[0m \u001b[31m627.0 kB/s\u001b[0m eta \u001b[36m0:00:00\u001b[0m0:01\u001b[0m\n",
      "\u001b[?25hDownloading tomlkit-0.12.3-py3-none-any.whl (37 kB)\n",
      "Building wheels for collected packages: circuitpython_kernel\n",
      "  Building wheel for circuitpython_kernel (setup.py) ... \u001b[?25ldone\n",
      "\u001b[?25h  Created wheel for circuitpython_kernel: filename=circuitpython_kernel-0.3.2-py2.py3-none-any.whl size=10556 sha256=7d35ab30e8a0302fd62a9ea5e856f5700a6508be570683b30756734b28fcc259\n",
      "  Stored in directory: /tmp/pip-ephem-wheel-cache-20aulqq_/wheels/8b/69/e2/6284e12f7f9ca48c62370d3ed6f6591b5e7aa941f9fe3d1106\n",
      "Successfully built circuitpython_kernel\n",
      "Installing collected packages: tomlkit, mccabe, isort, dill, astroid, pylint, circuitpython_kernel\n",
      "Successfully installed astroid-3.0.2 circuitpython_kernel-0.3.2 dill-0.3.7 isort-5.13.2 mccabe-0.7.0 pylint-3.0.3 tomlkit-0.12.3\n"
     ]
    }
   ],
   "source": [
    "#1) Instalo ciruitpython\n",
    "!pip install \"https://github.com/adafruit/circuitpython_kernel/archive/master.zip\""
   ]
  },
  {
   "cell_type": "code",
   "execution_count": 2,
   "id": "8bd61d4a-3b80-4a3a-8556-255f8eb36b5f",
   "metadata": {},
   "outputs": [
    {
     "name": "stdout",
     "output_type": "stream",
     "text": [
      "Installing CircuitPython kernelspec\n",
      "/home/dietpi/.config/jupyterlab-desktop/jlab_server/lib/python3.8/site-packages/circuitpython_kernel/install.py:28: DeprecationWarning: replace is ignored. Installing a kernelspec always replaces an existing installation\n",
      "  KernelSpecManager().install_kernel_spec(\n",
      "Completed kernel installation.\n"
     ]
    }
   ],
   "source": [
    "#2) Activo Kernel\n",
    "!python -m circuitpython_kernel.install"
   ]
  },
  {
   "cell_type": "code",
   "execution_count": 3,
   "id": "62334e5f-ec54-49e5-8481-cbf5d9f6a0d3",
   "metadata": {},
   "outputs": [
    {
     "name": "stdout",
     "output_type": "stream",
     "text": [
      "Available kernels:\n",
      "  circuitpython    /home/dietpi/.local/share/jupyter/kernels/circuitpython\n",
      "  micropython      /home/dietpi/.local/share/jupyter/kernels/micropython\n",
      "  python3          /home/dietpi/.config/jupyterlab-desktop/jlab_server/share/jupyter/kernels/python3\n"
     ]
    }
   ],
   "source": [
    "#3) Compruebo listado de kernels\n",
    "!jupyter kernelspec list"
   ]
  },
  {
   "cell_type": "code",
   "execution_count": 4,
   "id": "07a80b7b-3599-4882-8419-fedaebc7799a",
   "metadata": {},
   "outputs": [],
   "source": [
    "#Es posible que tengas que reiniciar el entonro para que cargue el nuevo kernel"
   ]
  },
  {
   "cell_type": "code",
   "execution_count": 12,
   "id": "1d621b24-bf0e-4fbe-8d80-cfb0510f2240",
   "metadata": {},
   "outputs": [],
   "source": [
    "#Si sale error: No connection to CircuitPython VM: found no board\n",
    "#Es posible que tengas que editar board.py para poner el id de tu placa.(si no es adafruit)\n",
    "!mousepad mousepad ~/.config/jupyterlab-desktop/jlab_server/lib/python3.8/site-packages/circuitpython_kernel/board.py\n"
   ]
  },
  {
   "cell_type": "code",
   "execution_count": 10,
   "id": "d301a06d-9c5a-4d34-a07e-afc3d370bc39",
   "metadata": {},
   "outputs": [
    {
     "name": "stdout",
     "output_type": "stream",
     "text": [
      "Usage:\n",
      "  usbreset PPPP:VVVV - reset by product and vendor id\n",
      "  usbreset BBB/DDD   - reset by bus and device number\n",
      "  usbreset \"Product\" - reset by product name\n",
      "\n",
      "Devices:\n",
      "  Number 001/002  ID 0627:0001  QEMU USB Tablet\n",
      "  Number 002/031  ID 303a:8166  YD-ESP32-S3\n"
     ]
    }
   ],
   "source": [
    "!usbreset"
   ]
  },
  {
   "cell_type": "code",
   "execution_count": null,
   "id": "0a041418-8e9b-4100-8148-0544cbe67c4b",
   "metadata": {},
   "outputs": [],
   "source": []
  }
 ],
 "metadata": {
  "kernelspec": {
   "display_name": "Python 3 (ipykernel)",
   "language": "python",
   "name": "python3"
  },
  "language_info": {
   "codemirror_mode": {
    "name": "ipython",
    "version": 3
   },
   "file_extension": ".py",
   "mimetype": "text/x-python",
   "name": "python",
   "nbconvert_exporter": "python",
   "pygments_lexer": "ipython3",
   "version": "3.8.18"
  }
 },
 "nbformat": 4,
 "nbformat_minor": 5
}
